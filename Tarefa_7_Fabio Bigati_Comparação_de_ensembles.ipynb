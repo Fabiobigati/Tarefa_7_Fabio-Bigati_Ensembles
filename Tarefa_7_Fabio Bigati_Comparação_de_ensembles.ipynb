{
  "nbformat": 4,
  "nbformat_minor": 0,
  "metadata": {
    "colab": {
      "name": "Tarefa_7.ipynb",
      "provenance": []
    },
    "kernelspec": {
      "name": "python3",
      "display_name": "Python 3"
    },
    "language_info": {
      "name": "python"
    }
  },
  "cells": [
    {
      "cell_type": "code",
      "execution_count": 1,
      "metadata": {
        "colab": {
          "base_uri": "https://localhost:8080/"
        },
        "id": "2aDv-Mnyap8B",
        "outputId": "34951771-2510-4262-f73a-3960360f4bbd"
      },
      "outputs": [
        {
          "output_type": "stream",
          "name": "stdout",
          "text": [
            "Versão da Linguagem Python Usada Neste Jupyter Notebook: 3.7.13\n"
          ]
        }
      ],
      "source": [
        "from platform import python_version\n",
        "print('Versão da Linguagem Python Usada Neste Jupyter Notebook:', python_version())"
      ]
    },
    {
      "cell_type": "code",
      "source": [
        "import pandas as pd\n",
        "import numpy as np\n",
        "import statistics as st\n",
        "import matplotlib.pyplot as plt"
      ],
      "metadata": {
        "id": "Ze8OvxPab-Ew"
      },
      "execution_count": 2,
      "outputs": []
    },
    {
      "cell_type": "code",
      "source": [
        "import pandas as pd\n",
        "df = pd.read_csv(\"https://archive.ics.uci.edu/ml/machine-learning-databases/00537/sobar-72.csv\")\n",
        "X, y = df.iloc[:, :6], df.iloc[:, -1]\n",
        "X.shape, y.shape"
      ],
      "metadata": {
        "colab": {
          "base_uri": "https://localhost:8080/"
        },
        "id": "NQBx9TKcfgdW",
        "outputId": "47d23580-5b1d-491b-ac9c-2764f308ba9c"
      },
      "execution_count": 42,
      "outputs": [
        {
          "output_type": "execute_result",
          "data": {
            "text/plain": [
              "((72, 6), (72,))"
            ]
          },
          "metadata": {},
          "execution_count": 42
        }
      ]
    },
    {
      "cell_type": "code",
      "source": [
        "from sklearn.model_selection import train_test_split\n",
        "X_tr, X_te, y_tr, y_te = train_test_split(X, y, random_state=42)\n",
        "X_tr.shape, X_te.shape, y_tr.shape, y_te.shape"
      ],
      "metadata": {
        "colab": {
          "base_uri": "https://localhost:8080/"
        },
        "id": "fkatNw03cRDe",
        "outputId": "547b8415-b2bc-457b-a96e-6cc7b5255cbd"
      },
      "execution_count": 43,
      "outputs": [
        {
          "output_type": "execute_result",
          "data": {
            "text/plain": [
              "((54, 6), (18, 6), (54,), (18,))"
            ]
          },
          "metadata": {},
          "execution_count": 43
        }
      ]
    },
    {
      "cell_type": "code",
      "source": [
        "from sklearn.neighbors import KNeighborsClassifier\n",
        "from sklearn.naive_bayes import GaussianNB\n",
        "from sklearn.linear_model import Perceptron\n",
        "from sklearn.tree import DecisionTreeClassifier\n",
        "from sklearn.ensemble import RandomForestClassifier\n",
        "\n",
        "\n",
        "for Algoritmo in [KNeighborsClassifier, GaussianNB, Perceptron, DecisionTreeClassifier, RandomForestClassifier]:\n",
        "    modelo = Algoritmo()\n",
        "    modelo.fit(X_tr, y_tr)\n",
        "    y_pr = modelo.predict(X_te)\n",
        "    hits = y_pr == y_te\n",
        "    print(modelo, sum(hits)/len(hits))"
      ],
      "metadata": {
        "colab": {
          "base_uri": "https://localhost:8080/"
        },
        "id": "I-7HHOGrfxVP",
        "outputId": "d91dd2df-601c-4fa0-e208-a18635b61c52"
      },
      "execution_count": 44,
      "outputs": [
        {
          "output_type": "stream",
          "name": "stdout",
          "text": [
            "KNeighborsClassifier() 0.7222222222222222\n",
            "GaussianNB() 0.7777777777777778\n",
            "Perceptron() 0.6111111111111112\n",
            "DecisionTreeClassifier() 0.7222222222222222\n",
            "RandomForestClassifier() 0.7222222222222222\n"
          ]
        }
      ]
    },
    {
      "cell_type": "code",
      "source": [
        "from sklearn.ensemble import VotingClassifier\n",
        "modelo = VotingClassifier([\n",
        "    ('knn', KNeighborsClassifier()),\n",
        "    ('naivebayes', GaussianNB()),\n",
        "    ('perceptron', Perceptron()),\n",
        "    ('arvore', DecisionTreeClassifier()),\n",
        "    ('randomforest', RandomForestClassifier(random_state=42))\n",
        "])\n",
        "modelo.fit(X_tr, y_tr)\n",
        "y_pr = modelo.predict(X_te)\n",
        "hits = y_pr == y_te\n",
        "sum(hits)/len(hits)"
      ],
      "metadata": {
        "colab": {
          "base_uri": "https://localhost:8080/"
        },
        "id": "qNJBcdaDhNLR",
        "outputId": "19ad9fdd-da6e-40ae-fc9a-9b5ecc3d7a17"
      },
      "execution_count": 45,
      "outputs": [
        {
          "output_type": "execute_result",
          "data": {
            "text/plain": [
              "0.7222222222222222"
            ]
          },
          "metadata": {},
          "execution_count": 45
        }
      ]
    },
    {
      "cell_type": "code",
      "source": [
        "from sklearn.ensemble import StackingClassifier\n",
        "\n",
        "modelo = StackingClassifier([\n",
        "    ('knn', KNeighborsClassifier()),\n",
        "    ('naivebayes', GaussianNB()),\n",
        "    ('perceptron', Perceptron()),\n",
        "    ('arvore', DecisionTreeClassifier()),\n",
        "    ('randomforest', RandomForestClassifier(random_state=42))\n",
        "])\n",
        "modelo.fit(X_tr, y_tr)\n",
        "y_pr = modelo.predict(X_te)\n",
        "hits = y_pr == y_te\n",
        "sum(hits)/len(hits)"
      ],
      "metadata": {
        "colab": {
          "base_uri": "https://localhost:8080/"
        },
        "id": "sfVTnA9fhP9I",
        "outputId": "7714fdef-4207-4782-8d77-fa323da604f6"
      },
      "execution_count": 46,
      "outputs": [
        {
          "output_type": "execute_result",
          "data": {
            "text/plain": [
              "0.7222222222222222"
            ]
          },
          "metadata": {},
          "execution_count": 46
        }
      ]
    },
    {
      "cell_type": "code",
      "source": [
        "from sklearn.ensemble import ExtraTreesClassifier\n",
        "\n",
        "voting = VotingClassifier([\n",
        "    ('knn', KNeighborsClassifier()),\n",
        "    ('naivebayes', GaussianNB()),\n",
        "    ('perceptron', Perceptron()),\n",
        "    ('arvore', DecisionTreeClassifier()),\n",
        "    ('randomforest', RandomForestClassifier(random_state=42))\n",
        "])\n",
        "\n",
        "modelo = StackingClassifier([\n",
        "    ('voting', voting),\n",
        "    ('extratrees', ExtraTreesClassifier(random_state=42))\n",
        "\n",
        "])\n",
        "modelo.fit(X_tr, y_tr)\n",
        "y_pr = modelo.predict(X_te)\n",
        "hits = y_pr == y_te\n",
        "sum(hits)/len(hits)"
      ],
      "metadata": {
        "colab": {
          "base_uri": "https://localhost:8080/"
        },
        "id": "LyZBd5HxhTAk",
        "outputId": "3fe72105-960a-4fb6-ba83-6def15b7d2b7"
      },
      "execution_count": 47,
      "outputs": [
        {
          "output_type": "execute_result",
          "data": {
            "text/plain": [
              "0.6666666666666666"
            ]
          },
          "metadata": {},
          "execution_count": 47
        }
      ]
    },
    {
      "cell_type": "code",
      "source": [
        "from sklearn.model_selection import GridSearchCV\n",
        "import numpy as np\n",
        "\n",
        "par_knn = {'n_neighbors': [3,5,7]}\n",
        "gs_knn = GridSearchCV(KNeighborsClassifier(), par_knn)\n",
        "\n",
        "par_nb = {'var_smoothing': np.logspace(0,-9, num=100)}\n",
        "gs_naivebayes = GridSearchCV(GaussianNB(), par_nb)\n",
        "\n",
        "par_per = {'alpha': [0.0001, 0.0003, 0.001, 0.003, 0.01, 0.03, 0.1, 0.3]}\n",
        "gs_perceptron = GridSearchCV(Perceptron(), par_per)\n",
        "\n",
        "par_arvore = {'max_depth': [10, 15, 25]}\n",
        "gs_arvore = GridSearchCV(DecisionTreeClassifier(), par_arvore)\n",
        "\n",
        "par_randomforest = {'max_depth': [10, 15, 25], 'n_estimators': [100, 150, 200]}\n",
        "gs_randomforest = GridSearchCV(RandomForestClassifier(random_state=42), par_randomforest)\n",
        "\n",
        "voting = VotingClassifier([\n",
        "    ('gs_knn', gs_knn),\n",
        "    ('gs_naivebayes', gs_naivebayes),\n",
        "    ('gs_perceptron', gs_perceptron),\n",
        "    ('gs_arvore', gs_arvore),\n",
        "    ('gs_randomforest', gs_randomforest)\n",
        "])\n",
        "\n",
        "modelo = StackingClassifier([\n",
        "    ('voting', voting),\n",
        "    ('extratrees', ExtraTreesClassifier(random_state=42))\n",
        "])\n",
        "modelo.fit(X_tr, y_tr)\n",
        "y_pr = modelo.predict(X_te)\n",
        "hits = y_pr == y_te\n",
        "sum(hits)/len(hits)"
      ],
      "metadata": {
        "colab": {
          "base_uri": "https://localhost:8080/"
        },
        "id": "qJSX6e7_hWZw",
        "outputId": "bb9e9734-a1c8-4356-99c8-b7b0fc0b01ab"
      },
      "execution_count": 48,
      "outputs": [
        {
          "output_type": "execute_result",
          "data": {
            "text/plain": [
              "0.6666666666666666"
            ]
          },
          "metadata": {},
          "execution_count": 48
        }
      ]
    }
  ]
}